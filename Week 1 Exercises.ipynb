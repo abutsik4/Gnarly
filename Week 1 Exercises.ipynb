{
  "cells": [
    {
      "cell_type": "markdown",
      "metadata": {
        "id": "DPE3l6ShbPLR"
      },
      "source": [
        "This notebook contains exercises relating to the Python Basics material. \n",
        "\n",
        "Each exercise will already have some code written and will require you to add some code which works with the pre-existing code in order to solve the task. \n",
        "\n",
        "Please do not edit any code outside of the area indicated that you should write your code as this may cause the code to not function as expected.\n",
        "\n",
        "Do not worry if you do not understand the code outside of the area indicated. It has been written to allow you to test the knowledge that you have just learnt and may include aspects of the course which you have not covered yet!"
      ]
    },
    {
      "cell_type": "markdown",
      "metadata": {
        "id": "8P85dWjeurUP"
      },
      "source": [
        "Tips for this practical:\n",
        "\n",
        "- Remember that whenever you use the input() command it will store a string in the variable. If you need to use this value for any equations, you will need to use the int(variable) or float(variable) on your variable."
      ]
    },
    {
      "cell_type": "markdown",
      "metadata": {
        "id": "SKO60vUsayI0"
      },
      "source": [
        "# Exercise 1 - First variable!"
      ]
    },
    {
      "cell_type": "markdown",
      "metadata": {
        "id": "4u5ssDcwa0S0"
      },
      "source": [
        "Store a message in a variable and then print it!"
      ]
    },
    {
      "cell_type": "code",
      "execution_count": 1,
      "metadata": {
        "id": "x7l3Y24bbV_R"
      },
      "outputs": [
        {
          "name": "stdout",
          "output_type": "stream",
          "text": [
            "5\n"
          ]
        }
      ],
      "source": [
        "#write your code below this line\n",
        "m = 5\n",
        "print(m)\n",
        "#write your code above this line"
      ]
    },
    {
      "cell_type": "markdown",
      "metadata": {
        "id": "Qix0ZrPfbBaO"
      },
      "source": [
        "# Exercise 2 - One variable, two values."
      ]
    },
    {
      "cell_type": "markdown",
      "metadata": {
        "id": "Z-D5KbyKbCWl"
      },
      "source": [
        "Store a message in a variable, print it and then reassign it to a new value, then print it again."
      ]
    },
    {
      "cell_type": "code",
      "execution_count": 4,
      "metadata": {
        "id": "VEmFOwOBb0Sp"
      },
      "outputs": [
        {
          "name": "stdout",
          "output_type": "stream",
          "text": [
            "hello world\n",
            "hello\n"
          ]
        }
      ],
      "source": [
        "#write your code below this line\n",
        "a = 'hello world'\n",
        "print(a)\n",
        "a = 'hello'\n",
        "print(a)\n",
        "\n",
        "#write your code above this line"
      ]
    },
    {
      "cell_type": "markdown",
      "metadata": {
        "id": "rcfQU5eabJos"
      },
      "source": [
        "# Exercise 3 - Somebody once said."
      ]
    },
    {
      "cell_type": "markdown",
      "metadata": {
        "id": "u87XQQKgaFK7"
      },
      "source": [
        "- Find a quote that you like. \n",
        "- Store the quote in a variable, with an appropriate introduction such as \"Steve Jobs Once Said, 'People With Passion Can Change The World'\". \n",
        "- Print the quote."
      ]
    },
    {
      "cell_type": "code",
      "execution_count": 5,
      "metadata": {
        "id": "HrL_ii0zc1LB"
      },
      "outputs": [
        {
          "name": "stdout",
          "output_type": "stream",
          "text": [
            "hello steve jobs was here\n"
          ]
        }
      ],
      "source": [
        "#write your code below this line.\n",
        "a= 'hello steve jobs was here'\n",
        "print(a)\n",
        "#write your code above this line."
      ]
    },
    {
      "cell_type": "markdown",
      "metadata": {
        "id": "fbdIJAnCdUkc"
      },
      "source": [
        "# Exercise 4 - About this person."
      ]
    },
    {
      "cell_type": "markdown",
      "metadata": {
        "id": "fgyuotgWdUmw"
      },
      "source": [
        "- Choose a famous celebrity. Store their first and last names in separate variables.\n",
        "- Use f strings to make a sentence about this person, and store that sentence in a variable.\n",
        "- Print the sentence."
      ]
    },
    {
      "cell_type": "code",
      "execution_count": 7,
      "metadata": {
        "id": "wohXnlPUdUwv"
      },
      "outputs": [
        {
          "name": "stdout",
          "output_type": "stream",
          "text": [
            "I am Steve and I love Jobs, deal with it\n"
          ]
        }
      ],
      "source": [
        "#write your code below this line.\n",
        "a = 'Steve'\n",
        "b = 'Jobs'\n",
        "print(f'I am {a} and I love {b}, deal with it')\n",
        "\n",
        "#write your code above this line."
      ]
    },
    {
      "cell_type": "markdown",
      "metadata": {
        "id": "vyK-y3_brZ5W"
      },
      "source": [
        "# Exercise 5 - Stripping the white space."
      ]
    },
    {
      "cell_type": "markdown",
      "metadata": {
        "id": "8h6xwoyRrNBM"
      },
      "source": [
        "- Your name has been stored as a variable, but with a space before and after! Let's remove this.\n",
        "- Edit the name variable to remove the space before and after yourname.\n",
        "- Print your name with whitespace removed from both sides."
      ]
    },
    {
      "cell_type": "code",
      "execution_count": 8,
      "metadata": {
        "id": "J_7jh3AhrNBQ"
      },
      "outputs": [
        {
          "name": "stdout",
          "output_type": "stream",
          "text": [
            "yourname\n"
          ]
        }
      ],
      "source": [
        "name = \"yourname\"\n",
        "\n",
        "#write your code below this line.\n",
        "print(name)\n",
        "#write your code above this line."
      ]
    },
    {
      "cell_type": "markdown",
      "metadata": {
        "id": "N-XALXsErcQI"
      },
      "source": [
        "# Exercise 6 - Printing a users input."
      ]
    },
    {
      "cell_type": "markdown",
      "metadata": {
        "id": "am6pKv6prNsk"
      },
      "source": [
        "- Take an input from the user\n",
        "- Store this input in a variable named \"message\"\n",
        "- Print the message variable."
      ]
    },
    {
      "cell_type": "code",
      "execution_count": 9,
      "metadata": {
        "id": "VJ-Ko1HnrNso"
      },
      "outputs": [
        {
          "name": "stdout",
          "output_type": "stream",
          "text": [
            "TEST\n"
          ]
        }
      ],
      "source": [
        "#write your code below this line.\n",
        "message = input(\"Enter a message: \")\n",
        "print(message)\n",
        "#write your code above this line."
      ]
    },
    {
      "cell_type": "markdown",
      "metadata": {
        "id": "BIp7TKCard2w"
      },
      "source": [
        "# Exercise 7 - Your full name."
      ]
    },
    {
      "cell_type": "markdown",
      "metadata": {
        "id": "CYK4bFLurOCw"
      },
      "source": [
        "- Ask the user for their forename and surname.\n",
        "- Store these values in different variables, and then print their full name."
      ]
    },
    {
      "cell_type": "code",
      "execution_count": 11,
      "metadata": {
        "id": "vQ_ywKsIrOCx"
      },
      "outputs": [
        {
          "name": "stdout",
          "output_type": "stream",
          "text": [
            "Your full name is Test Fal\n"
          ]
        }
      ],
      "source": [
        "#write your code below this line.\n",
        "first= input('Enter your first name: ')\n",
        "lastName = input('Enter your last name: ')\n",
        "a = f'Your full name is {first} {lastName}'\n",
        "print(a)\n",
        "\n",
        "#write your code above this line."
      ]
    },
    {
      "cell_type": "markdown",
      "metadata": {
        "id": "8Q5G-4Iarfdw"
      },
      "source": [
        "# Exercise 8 - Arithmetic."
      ]
    },
    {
      "cell_type": "markdown",
      "metadata": {
        "id": "H_qzKJcFrOJF"
      },
      "source": [
        "Write a program that prints out the results of at least one calculation for each of the basic operations: addition, subtraction, multiplication, division, modulo, and exponents."
      ]
    },
    {
      "cell_type": "code",
      "execution_count": 17,
      "metadata": {
        "id": "pu9rXUDSrOJH"
      },
      "outputs": [
        {
          "name": "stdout",
          "output_type": "stream",
          "text": [
            "8\n",
            "16\n",
            "1.0\n",
            "0\n",
            "0\n",
            "16\n"
          ]
        }
      ],
      "source": [
        "#write your code below this line.\n",
        "a = 4+4\n",
        "print(a)\n",
        "\n",
        "a = 4*4\n",
        "print(a)\n",
        "a = 4/4\n",
        "print(a)\n",
        "a = 4-4\n",
        "print(a)\n",
        "d = 4%4\n",
        "print(d)\n",
        "f = 4**2\n",
        "print(f)\n",
        "\n",
        "#write your code above this line."
      ]
    },
    {
      "cell_type": "markdown",
      "metadata": {
        "id": "0Z02SA1Zrwxz"
      },
      "source": [
        "# Exercise 9 - Order of operations."
      ]
    },
    {
      "cell_type": "markdown",
      "metadata": {
        "id": "QvKsvZXarwx3"
      },
      "source": [
        "The order of operations are exactly the same that you would have learnt at school. Using either BODMAS or BIDMAS (or some other acronym).\n",
        "\n",
        "This means that Python will follow the same rules. \n",
        "\n",
        "- Find a calculation where the result depends on the order of operations.\n",
        "- Print the result of this calculation using the standard order of operations.\n",
        "- Use parentheses to force a nonstandard order of operations. Print the result of this calculation."
      ]
    },
    {
      "cell_type": "code",
      "execution_count": 18,
      "metadata": {
        "id": "ruVdTM-prwx6"
      },
      "outputs": [
        {
          "name": "stdout",
          "output_type": "stream",
          "text": [
            "16.0\n"
          ]
        }
      ],
      "source": [
        "#write your code below this line.\n",
        "a = 6 + (5 * 4) / 2\n",
        "print(a)#write your code above this line."
      ]
    },
    {
      "cell_type": "markdown",
      "metadata": {
        "id": "Hp4tfaxSrxIm"
      },
      "source": [
        "# Exercise 10 - Jim and Janes total funds."
      ]
    },
    {
      "cell_type": "markdown",
      "metadata": {
        "id": "-9i7LsytrxIn"
      },
      "source": [
        "- Jim and Jane want to find how much money they collectively have.\n",
        "- Using the input function, ask the user how much money each of them individually has, these values should be stored in two variables. \n",
        "- Print the total amount."
      ]
    },
    {
      "cell_type": "code",
      "execution_count": 20,
      "metadata": {
        "id": "ckFdA0nErxIn"
      },
      "outputs": [
        {
          "name": "stdout",
          "output_type": "stream",
          "text": [
            "Jim has 5 and Janet has 2 total is 7\n"
          ]
        }
      ],
      "source": [
        "#write your code below this line.\n",
        "jim= input('Enter Jims amount: ')\n",
        "janet = input('Enter Janets amount: ')\n",
        "a = f'Jim has {jim} and Janet has {janet} total is {int(jim)+int(janet)}'\n",
        "print(a)\n",
        "#write your code above this line."
      ]
    },
    {
      "cell_type": "markdown",
      "metadata": {
        "id": "tn-79QH-rxMq"
      },
      "source": [
        "# Exercise 11 - Calculating the tip."
      ]
    },
    {
      "cell_type": "markdown",
      "metadata": {
        "id": "uu3DB2XVrxMr"
      },
      "source": [
        "- Imagine that you went out for a dinner and want to leave 15% of the bill as a tip. Write a program that gets value of the bill and prints the 10% of it.\n",
        "- Ask the user to input total bill amount, store it to the variable. Remember that you need to turn the string to a number using float(variable).\n",
        "- Calculate the tips and store it to another variable.\n",
        "- Print the message."
      ]
    },
    {
      "cell_type": "code",
      "execution_count": 21,
      "metadata": {
        "id": "H2mQCeCArxMs"
      },
      "outputs": [
        {
          "name": "stdout",
          "output_type": "stream",
          "text": [
            "Tip amount: 0.75, Total bill: 5.75\n"
          ]
        }
      ],
      "source": [
        "#write your code below this line.\n",
        "billAmount = input('Enter bill amount: ')\n",
        "tipPercentage = input('Enter tip percentage: ')\n",
        "tipAmount = (float(tipPercentage) / 100) * float(billAmount)\n",
        "totalBill = float(billAmount) + tipAmount\n",
        "print(f'Tip amount: {tipAmount}, Total bill: {totalBill}')\n",
        "#write your code above this line."
      ]
    },
    {
      "cell_type": "markdown",
      "metadata": {
        "id": "wKw9yPgsrxRR"
      },
      "source": [
        "# Exercise 12 - Area of a circle."
      ]
    },
    {
      "cell_type": "markdown",
      "metadata": {
        "id": "sz42sR7UrxRS"
      },
      "source": [
        "- The area of a circle is equal to pi * radius**2 \n",
        "- Get the radius from the user\n",
        "- Calculate and store the area of the circle to the variable\n",
        "- Print the area"
      ]
    },
    {
      "cell_type": "code",
      "execution_count": 22,
      "metadata": {
        "id": "flXQcFu1rxRT"
      },
      "outputs": [
        {
          "name": "stdout",
          "output_type": "stream",
          "text": [
            "The area of the circle is: 78.5\n"
          ]
        }
      ],
      "source": [
        "#write your code below this line.\n",
        "radius = input('Enter the radius of the circle: ')\n",
        "area = 3.14 * (float(radius) ** 2)\n",
        "print(f'The area of the circle is: {area}')\n",
        "#write your code above this line."
      ]
    },
    {
      "cell_type": "markdown",
      "metadata": {
        "id": "vRwrmlRQrxV7"
      },
      "source": [
        "# Exercise 13 - Area of a square."
      ]
    },
    {
      "cell_type": "markdown",
      "metadata": {
        "id": "6Dhbr7RtrxV8"
      },
      "source": [
        "- Get the side length of the square\n",
        "- Calculate and store the area of the square to the variable\n",
        "- Print the area"
      ]
    },
    {
      "cell_type": "code",
      "execution_count": 23,
      "metadata": {
        "id": "9o4i7Dd1rxV8"
      },
      "outputs": [
        {
          "name": "stdout",
          "output_type": "stream",
          "text": [
            "The area of the square is: 25.0\n"
          ]
        }
      ],
      "source": [
        "#write your code below this line.\n",
        "side = input('Enter the side length of the square: ')\n",
        "area = float(side) * float(side)\n",
        "print(f'The area of the square is: {area}')\n",
        "\n",
        "#write your code above this line."
      ]
    },
    {
      "cell_type": "markdown",
      "metadata": {
        "id": "BA51tNIirxaX"
      },
      "source": [
        "# Exercise 14 - Area of a rectangle."
      ]
    },
    {
      "cell_type": "markdown",
      "metadata": {
        "id": "Ilb-l-2SrxaY"
      },
      "source": [
        "- Get the width and height from the user\n",
        "- Calculate and store the area of the Rectangle to the variable\n",
        "- Print the area"
      ]
    },
    {
      "cell_type": "code",
      "execution_count": 24,
      "metadata": {
        "id": "FP-H2DvNrxaY"
      },
      "outputs": [
        {
          "name": "stdout",
          "output_type": "stream",
          "text": [
            "The area of the rectangle is: 25.0\n"
          ]
        }
      ],
      "source": [
        "#write your code below this line.\n",
        "width = input('Enter the width of the rectangle: ')\n",
        "height = input('Enter the height of the rectangle: ')\n",
        "area = float(width) * float(height)\n",
        "print(f'The area of the rectangle is: {area}')\n",
        "\n",
        "#write your code above this line."
      ]
    },
    {
      "cell_type": "markdown",
      "metadata": {
        "id": "Aw7rA96IrxfV"
      },
      "source": [
        "# Exercise 15 - An easy way to cheat at maths."
      ]
    },
    {
      "cell_type": "markdown",
      "metadata": {
        "id": "dDn1y7wXrxfV"
      },
      "source": [
        "- Write a Python program to solve the mathematical equation for any value of x or y: (x + y) * (x - y)\n",
        "- x and y should be taken as a user input.\n",
        "- Print the result."
      ]
    },
    {
      "cell_type": "code",
      "execution_count": 32,
      "metadata": {
        "id": "MCR7J2fLrxfW"
      },
      "outputs": [
        {
          "name": "stdout",
          "output_type": "stream",
          "text": [
            "The result of the mathematical operations is: 0.45\n"
          ]
        }
      ],
      "source": [
        "#write your code below this line.\n",
        "x = input('Enter a value: ')\n",
        "y = input('Enter another value: ')\n",
        "mathEquation = (int(x) + int(y)) * (int(x) - int(y)) / (int(x) * int(y))\n",
        "print(f'The result of the mathematical operations is: {mathEquation}')\n",
        "\n",
        "#write your code above this line."
      ]
    },
    {
      "cell_type": "markdown",
      "metadata": {},
      "source": [
        "# Exercise 16 - Greeting Function"
      ]
    },
    {
      "cell_type": "markdown",
      "metadata": {},
      "source": [
        "- Create a function named greet that takes a name as an argument and returns the string \"Hello {name}\". \n",
        "- Call the function with a few different names to see the result."
      ]
    },
    {
      "cell_type": "code",
      "execution_count": 36,
      "metadata": {},
      "outputs": [
        {
          "data": {
            "text/plain": [
              "'Hello, Charlie!'"
            ]
          },
          "execution_count": 36,
          "metadata": {},
          "output_type": "execute_result"
        }
      ],
      "source": [
        "#write your code below this line.\n",
        "def greet(name):\n",
        "    return f'Hello, {name}!'\n",
        "def function_name(name,second_name):\n",
        "    print(f'Hello, {name} and {second_name}!')\n",
        "    \n",
        "greet('Alice')\n",
        "greet('Bob')\n",
        "greet('Charlie')\n",
        "\n",
        "#write your code above this line."
      ]
    },
    {
      "cell_type": "markdown",
      "metadata": {},
      "source": [
        "# Exercise 17 - Squaring numbers"
      ]
    },
    {
      "cell_type": "markdown",
      "metadata": {},
      "source": [
        "- Create a function square that takes a number as an argument and returns its square. \n",
        "- Call the function with a few different numbers to see the result."
      ]
    },
    {
      "cell_type": "code",
      "execution_count": 37,
      "metadata": {},
      "outputs": [
        {
          "name": "stdout",
          "output_type": "stream",
          "text": [
            "3.1622776601683795\n"
          ]
        }
      ],
      "source": [
        "#write your code below this line.\n",
        "import math as math2\n",
        "x = 10\n",
        "y = math2.sqrt(x)\n",
        "print(y)\n",
        "\n",
        "#write your code above this line."
      ]
    }
  ],
  "metadata": {
    "colab": {
      "name": "Strings and Arithmetic exercises",
      "provenance": []
    },
    "kernelspec": {
      "display_name": "Python 3",
      "language": "python",
      "name": "python3"
    },
    "language_info": {
      "codemirror_mode": {
        "name": "ipython",
        "version": 3
      },
      "file_extension": ".py",
      "mimetype": "text/x-python",
      "name": "python",
      "nbconvert_exporter": "python",
      "pygments_lexer": "ipython3",
      "version": "3.11.9"
    }
  },
  "nbformat": 4,
  "nbformat_minor": 0
}
