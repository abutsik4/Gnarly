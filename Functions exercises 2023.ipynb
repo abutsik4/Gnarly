{
 "cells": [
  {
   "cell_type": "markdown",
   "metadata": {},
   "source": [
    "This notebook contains exercises relating to functions.\n",
    "\n",
    "Each exercise will already have some code written and will require you to add some code which works with the pre-existing code in order to solve the task. \n",
    "\n",
    "Please do not edit any code outside of the area indicated that you should write your code as this may cause the code to not function as expected.\n",
    "\n",
    "Do not worry if you do not understand the code outside of the area indicated. It has been written to allow you to test the knowledge that you have just learnt and may include aspects of the course which you have not covered yet!"
   ]
  },
  {
   "cell_type": "markdown",
   "metadata": {},
   "source": [
    "# Exercise 1"
   ]
  },
  {
   "cell_type": "markdown",
   "metadata": {},
   "source": [
    "- Write a function that takes in a person's name, and prints out a greeting.\n",
    "- The greeting must be at least three lines, and the person's name must be in each line.\n",
    "- Use your function to greet at least three different people.\n",
    "- Store your three people in a list, and call your function from a `for` loop."
   ]
  },
  {
   "cell_type": "code",
   "execution_count": 10,
   "metadata": {},
   "outputs": [
    {
     "name": "stdout",
     "output_type": "stream",
     "text": [
      "Hello, Ara!\n",
      "How lovely to see you, Ara!\n",
      "Welcome, Ara!\n",
      "Hello, Ada!\n",
      "How lovely to see you, Ada!\n",
      "Welcome, Ada!\n",
      "Hello, Asa!\n",
      "How lovely to see you, Asa!\n",
      "Welcome, Asa!\n",
      "['Ara', 'Ada', 'Asa']\n"
     ]
    }
   ],
   "source": [
    "#write your code below this line\n",
    "name1 = input(\"Enter your name: \")\n",
    "name2 = input(\"Enter your name: \")\n",
    "name3 = input(\"Enter your name: \")\n",
    "def greet(name):\n",
    "    print(\"Hello, \" + name + \"!\\n\"\n",
    "          \"How lovely to see you, \" + name + \"!\\n\"\n",
    "          \"Welcome, \" + name + \"!\")\n",
    "for name in (name1, name2, name3):\n",
    "    greet(name)\n",
    "names = [name1, name2, name3]\n",
    "print(names)\n",
    "#write your code above this line"
   ]
  },
  {
   "cell_type": "markdown",
   "metadata": {},
   "source": [
    "# Exercise 2"
   ]
  },
  {
   "cell_type": "markdown",
   "metadata": {},
   "source": [
    "- Write a function that takes in a first name and a last name, and prints out a nicely formatted full name, in a sentence. Your sentence could be as simple as, `\"Hello, full_name\"`\n",
    "- Using a loop call your function three times, with a different name each time."
   ]
  },
  {
   "cell_type": "code",
   "execution_count": 18,
   "metadata": {},
   "outputs": [
    {
     "name": "stdout",
     "output_type": "stream",
     "text": [
      "Hello, Ara Ara!\n",
      "Hello, Ara Ara!\n",
      "Hello, Ara Ara!\n"
     ]
    }
   ],
   "source": [
    "#write your code below this line\n",
    "def greet():\n",
    "    count = 0\n",
    "    while count < 3:\n",
    "        first_name = input(\"Enter your first name: \")\n",
    "        last_name = input(\"Enter your last name: \")\n",
    "        full_name = first_name + \" \" + last_name\n",
    "        print(\"Hello, \" + full_name + \"!\")\n",
    "        count += 1\n",
    "greet()\n",
    "#write your code above this line"
   ]
  },
  {
   "cell_type": "markdown",
   "metadata": {},
   "source": [
    "# Exercise 3"
   ]
  },
  {
   "cell_type": "markdown",
   "metadata": {},
   "source": [
    "- Write a function that takes in two numbers, and adds them together. Make your function print out a sentence showing the two numbers, and the result.\n",
    "- Call your function with three different sets of numbers."
   ]
  },
  {
   "cell_type": "code",
   "execution_count": 3,
   "metadata": {},
   "outputs": [],
   "source": [
    "#write your code below this line\n",
    "\n",
    "#write your code above this line"
   ]
  },
  {
   "cell_type": "markdown",
   "metadata": {},
   "source": [
    "# Exercise 4"
   ]
  },
  {
   "cell_type": "markdown",
   "metadata": {},
   "source": [
    "- Modify exercise 3 so that your function returns the sum of the two numbers.\n",
    "- Your nicely formatted print message should be printed outside of the function."
   ]
  },
  {
   "cell_type": "code",
   "execution_count": 4,
   "metadata": {},
   "outputs": [],
   "source": [
    "#write your code below this line\n",
    "\n",
    "#write your code above this line"
   ]
  },
  {
   "cell_type": "markdown",
   "metadata": {},
   "source": [
    "# Exercise 5"
   ]
  },
  {
   "cell_type": "markdown",
   "metadata": {},
   "source": [
    "- Write a Python function that takes a single number as an input and returns \"even\" if even or \"odd\" if odd.\n",
    "- If the number is zero return \"Zero neither even nor odd\""
   ]
  },
  {
   "cell_type": "code",
   "execution_count": 5,
   "metadata": {},
   "outputs": [],
   "source": [
    "#write your code below this line\n",
    "\n",
    "#write your code above this line"
   ]
  },
  {
   "cell_type": "markdown",
   "metadata": {},
   "source": [
    "# Exercise 6"
   ]
  },
  {
   "cell_type": "markdown",
   "metadata": {},
   "source": [
    "- Write a Python function to check if passed letter is a vowel or not.\n",
    "- Print out an appropriate message to the user."
   ]
  },
  {
   "cell_type": "code",
   "execution_count": 6,
   "metadata": {},
   "outputs": [],
   "source": [
    "#write your code below this line\n",
    "\n",
    "#write your code above this line"
   ]
  },
  {
   "cell_type": "markdown",
   "metadata": {},
   "source": [
    "# Exercise 7"
   ]
  },
  {
   "cell_type": "markdown",
   "metadata": {},
   "source": [
    "- Write two functions\n",
    "- One to sum all numbers in a list (the sum).\n",
    "- One to multiply all numbers in a list (the product).\n",
    "- Your function should return a message of the form \"Sum is: answer\" \"Product is: answer\"\n",
    "- Outside of your function, ask your user how many numbers they wish to input. Then input this amount of numbers to a list using a for loop.\n",
    "- Finally, use your functions to print the sum and product of both lists."
   ]
  },
  {
   "cell_type": "code",
   "execution_count": 7,
   "metadata": {},
   "outputs": [],
   "source": [
    "#write your code below this line\n",
    "\n",
    "#write your code above this line"
   ]
  },
  {
   "cell_type": "markdown",
   "metadata": {},
   "source": [
    "# Exercise 8"
   ]
  },
  {
   "cell_type": "markdown",
   "metadata": {},
   "source": [
    "- Create a function that takes three elements that are the coefficients of quadratic equation $ax^2+bx+c$ where a, b and c are int values. The function must return the roots of the quadratic equation.\n",
    "- You can freshen up your Quadratic Equation knowledge here [link](https://www.mathsisfun.com/algebra/quadratic-equation.html)"
   ]
  },
  {
   "cell_type": "code",
   "execution_count": 8,
   "metadata": {},
   "outputs": [],
   "source": [
    "#write your code below this line\n",
    "\n",
    "#write your code above this line"
   ]
  },
  {
   "cell_type": "markdown",
   "metadata": {},
   "source": [
    "# Exercise 9"
   ]
  },
  {
   "cell_type": "markdown",
   "metadata": {},
   "source": [
    "- Write a function that takes two arguments, a person's name and their favorite color. The function should print out a statement such as \"Bill's favorite color is red.\"\n",
    "- Call your function five times, with a different person and color each time."
   ]
  },
  {
   "cell_type": "code",
   "execution_count": 9,
   "metadata": {},
   "outputs": [],
   "source": [
    "#write your code below this line\n",
    "\n",
    "#write your code above this line"
   ]
  },
  {
   "cell_type": "markdown",
   "metadata": {},
   "source": [
    "# Exercise 10"
   ]
  },
  {
   "cell_type": "markdown",
   "metadata": {},
   "source": [
    "- Write a function that takes in two arguments, the name of a city and the name of a sports team from that city and prints the message.\n",
    "- Call your function three times, using a mix of positional and keyword arguments."
   ]
  },
  {
   "cell_type": "code",
   "execution_count": 10,
   "metadata": {},
   "outputs": [],
   "source": [
    "#write your code below this line\n",
    "\n",
    "\n",
    "#write your code above this line"
   ]
  }
 ],
 "metadata": {
  "kernelspec": {
   "display_name": "base",
   "language": "python",
   "name": "python3"
  },
  "language_info": {
   "codemirror_mode": {
    "name": "ipython",
    "version": 3
   },
   "file_extension": ".py",
   "mimetype": "text/x-python",
   "name": "python",
   "nbconvert_exporter": "python",
   "pygments_lexer": "ipython3",
   "version": "3.12.7"
  },
  "orig_nbformat": 4
 },
 "nbformat": 4,
 "nbformat_minor": 2
}
