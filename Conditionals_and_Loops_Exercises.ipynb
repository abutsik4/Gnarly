{
  "cells": [
    {
      "cell_type": "markdown",
      "metadata": {
        "id": "ytlqPblnYXCi"
      },
      "source": [
        "This notebook contains exercises relating to conditionals and loops.\n",
        "\n",
        "Each exercise will already have some code written and will require you to add some code which works with the pre-existing code in order to solve the task. \n",
        "\n",
        "Please do not edit any code outside of the area indicated that you should write your code as this may cause the code to not function as expected.\n",
        "\n",
        "Do not worry if you do not understand the code outside of the area indicated. It has been written to allow you to test the knowledge that you have just learnt and may include aspects of the course which you have not covered yet!"
      ]
    },
    {
      "cell_type": "markdown",
      "metadata": {
        "id": "TeA21OCTZFVt"
      },
      "source": [
        "# Exercise 1"
      ]
    },
    {
      "cell_type": "markdown",
      "metadata": {
        "id": "YVffLf5Npq4e"
      },
      "source": [
        "- Write a Python program to create a list.\n",
        "- Add five book names to a list.\n",
        "- Using a for loop, display the list items. "
      ]
    },
    {
      "cell_type": "code",
      "execution_count": 2,
      "metadata": {
        "id": "az11M5MqpkP2"
      },
      "outputs": [
        {
          "name": "stdout",
          "output_type": "stream",
          "text": [
            "The Great Gatsby\n",
            "1984\n",
            "To Kill a Mockingbird\n",
            "Pride and Prejudice\n",
            "The Catcher in the Rye\n"
          ]
        }
      ],
      "source": [
        "#write your code below this line\n",
        "books = ['The Great Gatsby', '1984', 'To Kill a Mockingbird', 'Pride and Prejudice', 'The Catcher in the Rye']\n",
        "for a in books:\n",
        "    print(a)\n",
        "#write your code above this line"
      ]
    },
    {
      "cell_type": "markdown",
      "metadata": {
        "id": "3pXXjeXipk2p"
      },
      "source": [
        "# Exercise 2"
      ]
    },
    {
      "cell_type": "markdown",
      "metadata": {
        "id": "1TyxK316s-G_"
      },
      "source": [
        "- Create a list and fill it with some values. \n",
        "- Use a for loop to reverse the order of the items in the list manually! You will want to create a new list to store these values."
      ]
    },
    {
      "cell_type": "code",
      "execution_count": 12,
      "metadata": {
        "id": "_1XEL5O9tk8q"
      },
      "outputs": [
        {
          "name": "stdout",
          "output_type": "stream",
          "text": [
            "['9', '7', '5', '3', '1']\n"
          ]
        }
      ],
      "source": [
        "#write your code below this line\n",
        "list1 = ['1','3','5','7','9']\n",
        "list2 = list1[::-1]\n",
        "print(list2)\n",
        "\n",
        "#write your code above this line"
      ]
    },
    {
      "cell_type": "markdown",
      "metadata": {
        "id": "GLPR8dN3s-Wr"
      },
      "source": [
        "# Exercise 3"
      ]
    },
    {
      "cell_type": "markdown",
      "metadata": {
        "id": "2MOdKj0Ss-Y_"
      },
      "source": [
        "- Think back to when we stated that a string may be accessed using the same indexing as a list.\n",
        "- Create a list.\n",
        "- Create a string containing your name.\n",
        "- Write a Python program to append characters of the string one at a time to the list."
      ]
    },
    {
      "cell_type": "code",
      "execution_count": 9,
      "metadata": {
        "id": "DS7buGSRt8LN"
      },
      "outputs": [
        {
          "name": "stdout",
          "output_type": "stream",
          "text": [
            "['Alice', 'Bob', 'Charlie', 'David', 'Alex', 'Artjom', 'Timur']\n"
          ]
        }
      ],
      "source": [
        "#write your code below this line\n",
        "name = ['Alice', 'Bob', 'Charlie', 'David', 'Alex']\n",
        "name.append('A'+'r'+'t'+'j'+'o'+'m')\n",
        "name.append('T'+'i'+'m'+'u'+'r')\n",
        "print(name)\n",
        "\n",
        "#write your code above this line"
      ]
    },
    {
      "cell_type": "markdown",
      "metadata": {
        "id": "oLxyP4WCs-bW"
      },
      "source": [
        "# Exercise 4"
      ]
    },
    {
      "cell_type": "markdown",
      "metadata": {
        "id": "tXTWtXLas-du"
      },
      "source": [
        "- Using a for loop, create a program that calculates the product of the list. \n",
        "- The product is equal to element 0 multiplied by element 1, then this value is multiplied by element 2 and so on."
      ]
    },
    {
      "cell_type": "code",
      "execution_count": null,
      "metadata": {
        "id": "oElLGEtKu8EZ"
      },
      "outputs": [
        {
          "name": "stdout",
          "output_type": "stream",
          "text": [
            "30\n",
            "12\n",
            "24\n",
            "12\n",
            "8\n",
            "24\n"
          ]
        },
        {
          "ename": "IndexError",
          "evalue": "list index out of range",
          "output_type": "error",
          "traceback": [
            "\u001b[1;31m---------------------------------------------------------------------------\u001b[0m",
            "\u001b[1;31mIndexError\u001b[0m                                Traceback (most recent call last)",
            "Cell \u001b[1;32mIn[19], line 6\u001b[0m\n\u001b[0;32m      4\u001b[0m \u001b[38;5;66;03m#write your code below this line\u001b[39;00m\n\u001b[0;32m      5\u001b[0m \u001b[38;5;28;01mfor\u001b[39;00m num \u001b[38;5;129;01min\u001b[39;00m \u001b[38;5;28mrange\u001b[39m(\u001b[38;5;28mlen\u001b[39m(numbers)):\n\u001b[1;32m----> 6\u001b[0m     num \u001b[38;5;241m=\u001b[39m numbers[num] \u001b[38;5;241m*\u001b[39m numbers[num\u001b[38;5;241m+\u001b[39m\u001b[38;5;241m1\u001b[39m]\n\u001b[0;32m      7\u001b[0m     \u001b[38;5;28mprint\u001b[39m(num)\n",
            "\u001b[1;31mIndexError\u001b[0m: list index out of range"
          ]
        }
      ],
      "source": [
        "#create our list\n",
        "numbers = [10, 3, 4, 6, 2, 4, 6]\n",
        "\n",
        "#write your code below this line\n",
        "for num in range(len(numbers)):\n",
        "    num = numbers[num]\n",
        "    print(num)\n",
        "\n",
        "#write your code above this line"
      ]
    },
    {
      "cell_type": "markdown",
      "metadata": {
        "id": "zHs1sQHCs-f_"
      },
      "source": [
        "# Exercise 5"
      ]
    },
    {
      "cell_type": "markdown",
      "metadata": {
        "id": "thhOWBmxVZfl"
      },
      "source": [
        "- Using a for loop, create a program that calculates the sum of the list. \n",
        "- The sum is equal to element 0 added to element 1, then this value is added to element 2 and so on."
      ]
    },
    {
      "cell_type": "code",
      "execution_count": 20,
      "metadata": {
        "id": "8QqvRqJTVYKO"
      },
      "outputs": [
        {
          "name": "stdout",
          "output_type": "stream",
          "text": [
            "35\n"
          ]
        }
      ],
      "source": [
        "#create our list\n",
        "numbers = [10, 3, 4, 6, 2, 4, 6]\n",
        "\n",
        "#write your code below this line\n",
        "\n",
        "product_of_list = numbers[0]\n",
        "\n",
        "for x in range(len(numbers)-1):\n",
        "    product_of_list = product_of_list + numbers[x+1]\n",
        "\n",
        "print(product_of_list)\n",
        "\n",
        "#write your code above this line"
      ]
    },
    {
      "cell_type": "markdown",
      "metadata": {
        "id": "zyLymTDgqKXs"
      },
      "source": [
        "# Exercise 6"
      ]
    },
    {
      "cell_type": "markdown",
      "metadata": {
        "id": "PWwZX21mqKXx"
      },
      "source": [
        "- Using a for loop write a Python program that iterates through a list and states whether a value is even or odd.\n",
        "- Use f strings to print the answer to each iteration out nicely."
      ]
    },
    {
      "cell_type": "code",
      "execution_count": 22,
      "metadata": {
        "id": "rerdfRCxqKX1"
      },
      "outputs": [
        {
          "name": "stdout",
          "output_type": "stream",
          "text": [
            "The value 81 is odd\n",
            "The value 80 is even\n",
            "The value 40 is even\n",
            "The value 49 is odd\n",
            "The value 48 is even\n",
            "The value 39 is odd\n",
            "The value 87 is odd\n",
            "The value 32 is even\n",
            "The value 97 is odd\n",
            "The value 64 is even\n",
            "The value 57 is odd\n",
            "The value 89 is odd\n",
            "The value 70 is even\n",
            "The value 82 is even\n",
            "The value 82 is even\n",
            "The value 19 is odd\n"
          ]
        }
      ],
      "source": [
        "#create our list\n",
        "numbers = [81, 80, 40, 49, 48, 39, 87, 32, 97, 64, 57, 89, 70, 82, 82, 19]\n",
        "\n",
        "#write your code below this line\n",
        "for n in numbers:\n",
        "    if n % 2 == 0:\n",
        "        f'The value {n} is even'\n",
        "        print(f'The value {n} is even')\n",
        "    else:\n",
        "        f'The value {n} is odd'\n",
        "        print(f'The value {n} is odd')\n",
        "\n",
        "#write your code above this line"
      ]
    },
    {
      "cell_type": "markdown",
      "metadata": {
        "id": "kUbes28CqKhj"
      },
      "source": [
        "# Exercise 7"
      ]
    },
    {
      "cell_type": "markdown",
      "metadata": {
        "id": "IaBGhh5nqKhl"
      },
      "source": [
        "- Modify the program below to fulfill the following requirements.\n",
        "- Make a variable called strength, and set its initial value to 5.\n",
        "- Inside the while loop, print a message that reports the player's current strength.\n",
        "- Inside the while loop, write a statement that increases the player's strength."
      ]
    },
    {
      "cell_type": "code",
      "execution_count": 27,
      "metadata": {
        "id": "CrF67AxsqKho"
      },
      "outputs": [
        {
          "name": "stdout",
          "output_type": "stream",
          "text": [
            "You are still playing, because you have 5 lives left.\n",
            "Your current strength is 5.\n",
            "You are still playing, because you have 4 lives left.\n",
            "Your current strength is 6.\n",
            "You are still playing, because you have 3 lives left.\n",
            "Your current strength is 7.\n",
            "You are still playing, because you have 2 lives left.\n",
            "Your current strength is 8.\n",
            "You are still playing, because you have 1 live left.\n",
            "Your current strength is 9.\n",
            "\n",
            "Oh no, your have no lives left!\n",
            "Game Over.\n"
          ]
        }
      ],
      "source": [
        "lives = 5\n",
        "#write your code below this line\n",
        "strength = 5    \n",
        "#write your code above this line\n",
        "\n",
        "# The player is allowed to keep playing as long as they have lives.\n",
        "while lives > 0:\n",
        "    if lives > 1:\n",
        "        print(f\"You are still playing, because you have {lives} lives left.\")\n",
        "    else:\n",
        "        print(f\"You are still playing, because you have {lives} live left.\")\n",
        "    \n",
        "    #write your code below this line\n",
        "    print(f\"Your current strength is {strength}.\")\n",
        "    strength = strength + 1\n",
        "    #write your code above this line\n",
        "    \n",
        "    lives -= 1\n",
        "    \n",
        "print(\"\\nOh no, your have no lives left!\\nGame Over.\")\n"
      ]
    },
    {
      "cell_type": "markdown",
      "metadata": {
        "id": "PGX0w6xKqKqB"
      },
      "source": [
        "# Exercise 8"
      ]
    },
    {
      "cell_type": "markdown",
      "metadata": {
        "id": "uwQh5RymqKqD"
      },
      "source": [
        "We are going to recreate the classic guessing higher/lower number guessing game! If you are not familiar with this, check out https://www.funbrain.com/games/guess-the-number\n",
        "\n",
        "- Write a program which asks the player 1 to input an integer between 1 and 100. \n",
        "- Check that this number is between 1 and 100!\n",
        "- Create a variable named number_guessed and set it equal to false.\n",
        "- Create a variable named lives and set it to any value you wish.\n",
        "- Create a while loop which asks player 2 to guess a number\n",
        "- Tell the player whether they guessed the number correctly, were too low or too high.\n",
        "- If player 2 guessed too high or too low, remove one of their lives!"
      ]
    },
    {
      "cell_type": "code",
      "execution_count": null,
      "metadata": {
        "id": "TIMYxjTmqKqF"
      },
      "outputs": [
        {
          "ename": "SyntaxError",
          "evalue": "'break' outside loop (4012628850.py, line 12)",
          "output_type": "error",
          "traceback": [
            "\u001b[1;36m  Cell \u001b[1;32mIn[40], line 12\u001b[1;36m\u001b[0m\n\u001b[1;33m    break\u001b[0m\n\u001b[1;37m    ^\u001b[0m\n\u001b[1;31mSyntaxError\u001b[0m\u001b[1;31m:\u001b[0m 'break' outside loop\n"
          ]
        }
      ],
      "source": [
        "#write your code below this line\n",
        "user_input = input('Enter the number between 1 and 100: ')\n",
        "user_input = number_allowed = True\n",
        "number_guessed = int(user_input)\n",
        "number_allowed = True\n",
        "\n",
        "if user_input > 1 and user_input < 100:\n",
        "    print('Your number is allowed.')\n",
        "else:\n",
        "    print('Your number is not allowed.')\n",
        "    number_allowed = False\n",
        "    break\n",
        "    \n",
        "lives = 5\n",
        "while lives > 0:\n",
        "    if number_guessed < 50:\n",
        "        print('Your guess is too low.')\n",
        "    elif number_guessed > 50:\n",
        "        print('Your guess is too high.')\n",
        "    else:\n",
        "        print('Congratulations! You guessed the correct number.')\n",
        "        break\n",
        "    lives -= 1\n",
        "    if lives > 0:\n",
        "        user_input = input(f'You have {lives} lives left. Try again: ')\n",
        "        number_guessed = int(user_input)\n",
        "    else:\n",
        "        print('Sorry, you have no lives left. Game Over.')\n",
        "\n",
        "#write your code above this line"
      ]
    }
  ],
  "metadata": {
    "colab": {
      "name": "Conditionals and Loops Exercises",
      "provenance": [],
      "toc_visible": true
    },
    "kernelspec": {
      "display_name": "base",
      "language": "python",
      "name": "python3"
    },
    "language_info": {
      "codemirror_mode": {
        "name": "ipython",
        "version": 3
      },
      "file_extension": ".py",
      "mimetype": "text/x-python",
      "name": "python",
      "nbconvert_exporter": "python",
      "pygments_lexer": "ipython3",
      "version": "3.12.7"
    }
  },
  "nbformat": 4,
  "nbformat_minor": 2
}
